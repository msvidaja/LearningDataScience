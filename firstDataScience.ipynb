{
 "cells": [
  {
   "cell_type": "code",
   "execution_count": 2,
   "metadata": {},
   "outputs": [
    {
     "name": "stdout",
     "output_type": "stream",
     "text": [
      "    name  Rank  Marks\n",
      "0  Radha     6     90\n",
      "1   Amar     5     80\n",
      "2  Abdul     4     70\n",
      "3  Ketan     3     60\n",
      "4  Sarin     2     50\n"
     ]
    }
   ],
   "source": [
    "import pandas as pd\n",
    "\n",
    "data = pd.DataFrame({\n",
    "    'name' : ['Radha', 'Amar','Abdul','Ketan', 'Sarin'],\n",
    "    'Rank': range(6,1,-1),\n",
    "    \"Marks\":[90,80,70,60,50]  # Removed the extra element to match other columns' lengths\n",
    "})\n",
    "\n",
    "print(data)"
   ]
  }
 ],
 "metadata": {
  "kernelspec": {
   "display_name": ".venv",
   "language": "python",
   "name": "python3"
  },
  "language_info": {
   "codemirror_mode": {
    "name": "ipython",
    "version": 3
   },
   "file_extension": ".py",
   "mimetype": "text/x-python",
   "name": "python",
   "nbconvert_exporter": "python",
   "pygments_lexer": "ipython3",
   "version": "3.10.12"
  }
 },
 "nbformat": 4,
 "nbformat_minor": 2
}
